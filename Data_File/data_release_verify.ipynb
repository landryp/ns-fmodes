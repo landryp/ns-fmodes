{
 "cells": [
  {
   "metadata": {
    "ExecuteTime": {
     "end_time": "2024-10-19T17:15:46.109037Z",
     "start_time": "2024-10-19T17:15:46.067105Z"
    }
   },
   "cell_type": "code",
   "source": "import h5py",
   "id": "1e94e71e8d5dbbde",
   "outputs": [],
   "execution_count": 1
  },
  {
   "metadata": {
    "ExecuteTime": {
     "end_time": "2024-10-19T17:20:01.108361Z",
     "start_time": "2024-10-19T17:20:01.087512Z"
    }
   },
   "cell_type": "code",
   "source": [
    "infile = h5py.File('EoS_posterior_samples_PSR+GW+NICER.h5', 'r')\n",
    "isacc = h5py.File('../etc/LCEHL_EOS_posterior_samples_PSR+GW+NICER.h5', 'r')\n",
    "print(infile.keys())\n",
    "print(isacc.keys())\n",
    "single_eos = infile['ns']['eos_0']\n",
    "print(single_eos.dtype.names)\n",
    "print(infile[\"eos\"][\"eos_0\"].dtype.names)\n",
    "print(len(infile[\"eos\"]))"
   ],
   "id": "89efaed7-8acf-48f9-834e-311d6de129fc",
   "outputs": [
    {
     "name": "stdout",
     "output_type": "stream",
     "text": [
      "<KeysViewHDF5 ['eos', 'id', 'ns']>\n",
      "<KeysViewHDF5 ['eos', 'id', 'ns']>\n",
      "('rhoc', 'M', 'R', 'Lambda', 'f')\n",
      "('pressurec2', 'energy_densityc2', 'baryon_density')\n",
      "9607\n"
     ]
    }
   ],
   "execution_count": 20
  },
  {
   "metadata": {
    "ExecuteTime": {
     "end_time": "2024-10-19T17:20:07.912746Z",
     "start_time": "2024-10-19T17:20:07.907350Z"
    }
   },
   "cell_type": "code",
   "source": [
    "i = 1\n",
    "print(isacc['eos'][f\"eos_{i}\"][\"energy_densityc2\"][:5])\n",
    "print(infile[\"eos\"][f\"eos_{i}\"][\"energy_densityc2\"][:5])"
   ],
   "id": "2453398674164e6d",
   "outputs": [
    {
     "name": "stdout",
     "output_type": "stream",
     "text": [
      "[ 7.75776865  7.81744416  7.85722757  8.10587363 11.53719528]\n",
      "[ 7.75776865  7.81744416  7.85722757  8.10587363 11.53719528]\n"
     ]
    }
   ],
   "execution_count": 23
  },
  {
   "metadata": {},
   "cell_type": "markdown",
   "source": "Correct as expected, what about i = 7 case",
   "id": "b4719e8d28d49afb"
  },
  {
   "metadata": {
    "ExecuteTime": {
     "end_time": "2024-10-19T17:20:10.324990Z",
     "start_time": "2024-10-19T17:20:10.319681Z"
    }
   },
   "cell_type": "code",
   "source": [
    "i = 7\n",
    "print(isacc['eos'][f\"eos_{i}\"][\"energy_densityc2\"][:5])\n",
    "print(infile[\"eos\"][f\"eos_{i}\"][\"energy_densityc2\"][:5])"
   ],
   "id": "4782dcf33f18aa24",
   "outputs": [
    {
     "name": "stdout",
     "output_type": "stream",
     "text": [
      "[  13.15441164   41.59790383  131.5441333   415.9791462  1315.442021  ]\n",
      "[144078.6572 158415.0025 174177.6556 191509.586  210564.4591]\n"
     ]
    }
   ],
   "execution_count": 24
  },
  {
   "metadata": {},
   "cell_type": "markdown",
   "source": "Checking EOS id's as well as matched EOS at every point",
   "id": "49d4ccc0355aed30"
  },
  {
   "metadata": {
    "ExecuteTime": {
     "end_time": "2024-10-19T17:20:23.502433Z",
     "start_time": "2024-10-19T17:20:21.037309Z"
    }
   },
   "cell_type": "code",
   "source": [
    "failed_EOS_match = 0\n",
    "failed_id = 0\n",
    "for i in range(10000):\n",
    "    \n",
    "    try:\n",
    "        assert (infile[\"eos\"][f\"eos_{i}\"][\"energy_densityc2\"] == isacc['eos'][f\"eos_{i}\"][\"energy_densityc2\"]).all()\n",
    "        assert (infile[\"eos\"][f\"eos_{i}\"][\"pressurec2\"] == isacc['eos'][f\"eos_{i}\"][\"pressurec2\"]).all()\n",
    "    except:\n",
    "        failed_EOS_match += 1\n",
    "    try:\n",
    "        assert isacc['id'][i] == infile['id'][i]\n",
    "    except:\n",
    "        failed_id += 1 # This should fail 10000 - len(infile[\"eos\"]) (or 393 times for PSR+NICER+GW)\n",
    "        \n",
    "print(\"Failed EOS Matches \", failed_EOS_match)\n",
    "print(\"Failed ID Matches \", failed_id)"
   ],
   "id": "a83f6790f1cf3e4e",
   "outputs": [
    {
     "name": "stdout",
     "output_type": "stream",
     "text": [
      "Failed EOS Matches  9996\n",
      "Failed ID Matches  9991\n"
     ]
    }
   ],
   "execution_count": 25
  },
  {
   "metadata": {},
   "cell_type": "code",
   "outputs": [],
   "execution_count": null,
   "source": "",
   "id": "34fe72fea4b5e4a6"
  }
 ],
 "metadata": {
  "kernelspec": {
   "display_name": "Python 3 (ipykernel)",
   "language": "python",
   "name": "python3"
  },
  "language_info": {
   "codemirror_mode": {
    "name": "ipython",
    "version": 3
   },
   "file_extension": ".py",
   "mimetype": "text/x-python",
   "name": "python",
   "nbconvert_exporter": "python",
   "pygments_lexer": "ipython3",
   "version": "3.9.19"
  }
 },
 "nbformat": 4,
 "nbformat_minor": 5
}

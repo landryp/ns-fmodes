{
 "cells": [
  {
   "cell_type": "code",
   "id": "initial_id",
   "metadata": {
    "collapsed": true,
    "jupyter": {
     "is_executing": true
    }
   },
   "source": [
    "import h5py\n",
    "filename = \"cowling_PSR+GW+NICER.h5\"\n",
    "\n",
    "with h5py.File(filename, \"r\") as f:\n",
    "    print(\"Keys: %s\" % f.keys())\n",
    "    cowling_group_key = list(f.keys())[0]\n",
    "    print(f[cowling_group_key])\n",
    "    eos_keys = list(f[cowling_group_key].keys())\n",
    "    eos_index = 47 # Warning: KEYS ARE NOT IN ORDER, 100th key will not be the 100th EOS\n",
    "    print(f[cowling_group_key][eos_keys[eos_index]])\n",
    "    data = f[cowling_group_key][eos_keys[eos_index]]\n",
    "    print(data[()])\n",
    "    M, R, f = data[()].T # has cgs units [grams, cm, Hz]"
   ],
   "outputs": [],
   "execution_count": null
  },
  {
   "metadata": {
    "jupyter": {
     "is_executing": true
    }
   },
   "cell_type": "code",
   "source": [
    "import matplotlib.pyplot as plt\n",
    "plt.figure()\n",
    "\n",
    "cm2km = 1e5 # cm [cgs]\n",
    "Msun = 1.989e33 # g [cgs]\n",
    "\n",
    "plt.scatter(R/cm2km, M/Msun, c = f/1000, cmap = \"inferno\", label = f\"{eos_keys[eos_index]}\")\n",
    "cbar = plt.colorbar()\n",
    "cbar.set_label(\"f [kHz]\")\n",
    "plt.xlabel(r\"R ($R_{\\odot}$)\"); plt.ylabel(r\"M ($M_{\\odot}$)\")\n",
    "plt.legend()\n",
    "plt.show()"
   ],
   "id": "4b2fff780206ea02",
   "outputs": [],
   "execution_count": null
  },
  {
   "metadata": {
    "jupyter": {
     "is_executing": true
    }
   },
   "cell_type": "code",
   "source": "",
   "id": "427114d4c43e1394",
   "outputs": [],
   "execution_count": null
  }
 ],
 "metadata": {
  "kernelspec": {
   "display_name": "Python 3",
   "language": "python",
   "name": "python3"
  },
  "language_info": {
   "codemirror_mode": {
    "name": "ipython",
    "version": 2
   },
   "file_extension": ".py",
   "mimetype": "text/x-python",
   "name": "python",
   "nbconvert_exporter": "python",
   "pygments_lexer": "ipython2",
   "version": "2.7.6"
  }
 },
 "nbformat": 4,
 "nbformat_minor": 5
}

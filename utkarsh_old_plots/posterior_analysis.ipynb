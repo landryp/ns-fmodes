{
 "cells": [
  {
   "cell_type": "code",
   "metadata": {},
   "source": [
    "import numpy as np\n",
    "import pandas as pd\n",
    "import matplotlib.pyplot as plt\n",
    "import glob\n",
    "import os\n",
    "import h5py\n",
    "from tqdm.notebook import tqdm_notebook as tqdm\n",
    "from os import listdir\n",
    "import seaborn as sns\n",
    "import time\n",
    "from scipy.interpolate import interp1d"
   ],
   "outputs": [],
   "execution_count": null
  },
  {
   "cell_type": "code",
   "metadata": {},
   "source": [
    "def listdir_nohidden(path):\n",
    "    for f in listdir(path):\n",
    "        if not f.startswith('.'):\n",
    "            yield f"
   ],
   "outputs": [],
   "execution_count": null
  },
  {
   "cell_type": "code",
   "metadata": {},
   "source": [
    "import pandas as pd\n",
    "from os import listdir\n",
    "\n",
    "msun = 1.98847e33\n",
    "folder_path = \"/Users/utkarsh/PycharmProjects/fmodes/posterior_fmodes/\"\n",
    "names = list(listdir(folder_path))\n",
    "\n",
    "# Create empty DataFrames with specified data types\n",
    "df = pd.DataFrame(columns=[\"mass\", \"radius\", \"fmode\"], dtype=float)\n",
    "df2 = pd.DataFrame(columns=[\"mass_interp\", \"radius_interp\", \"fmode_interp\"], dtype=float)"
   ],
   "outputs": [],
   "execution_count": null
  },
  {
   "cell_type": "code",
   "metadata": {},
   "source": [
    "predM = np.linspace(0, 3*msun, 10000)\n",
    "\n",
    "for eos_name in tqdm(names):\n",
    "        path = folder_path + eos_name \n",
    "        new = np.genfromtxt(path, delimiter=',', skip_header = 1)\n",
    "        \n",
    "        # Delete fmodes higher than limit fmax\n",
    "        fmax = 3.5e3\n",
    "        new = new[np.where(new.T[2] < fmax)]\n",
    "        df = df.append(pd.DataFrame(new, columns=df.columns), ignore_index=True)\n",
    "        \n",
    "        M, R, F = new.T\n",
    "\n",
    "        radius = interp1d(M, R, fill_value= \"extrapolate\", kind = \"cubic\")\n",
    "        fmode = interp1d(M, F, fill_value= \"extrapolate\", kind = \"cubic\")\n",
    "\n",
    "        predR = radius(predM)\n",
    "        predF = fmode(predM)\n",
    "\n",
    "        new2 = np.array([predM, predR, predF]).T\n",
    "        new2 = new2[np.where(new2.T[0] < max(M))]\n",
    "        new2 = new2[np.where(new2.T[0] > min(M))]\n",
    "        df2 = df2.append(pd.DataFrame(new2, columns=df2.columns), ignore_index=True)"
   ],
   "outputs": [],
   "execution_count": null
  },
  {
   "cell_type": "code",
   "metadata": {},
   "source": [
    "upper_list = []\n",
    "lower_list = []\n",
    "average_list = []\n",
    "mass_list = []\n",
    "\n",
    "for i in tqdm(range(len(predM))):\n",
    "    curr = df2.loc[df2[\"mass_interp\"] == predM[i]]\n",
    "    \n",
    "    if curr.empty:\n",
    "        continue\n",
    "    \n",
    "    curr_R = curr[\"radius_interp\"]\n",
    "    curr_F = curr[\"fmode_interp\"]\n",
    "    curr_M = curr[\"mass_interp\"]\n",
    "\n",
    "    upper = np.percentile(curr_F, 95)\n",
    "    lower = np.percentile(curr_F, 5)\n",
    "\n",
    "    upper_list.append(upper)\n",
    "    lower_list.append(lower)\n",
    "    average_list.append(np.mean(curr_F))\n",
    "    mass_list.append(np.mean(curr_M))\n",
    "\n",
    "average = np.array(average_list)\n",
    "upper = np.array(upper_list)\n",
    "lower = np.array(lower_list)\n",
    "mass = np.array(mass_list)"
   ],
   "outputs": [],
   "execution_count": null
  },
  {
   "cell_type": "code",
   "metadata": {},
   "source": [
    "plt.figure(dpi = 300)\n",
    "plt.fill_between(mass/msun, lower/1e3, upper/1e3, alpha=0.1, label = \"95%\")\n",
    "plt.plot(mass/msun, average/1e3, label=\"Average\", color=\"dodgerblue\", linewidth=2)\n",
    "plt.legend(frameon = False)\n",
    "plt.xlabel(\"Mass (Msun)\")\n",
    "plt.ylabel(\"Fundamental Mode (KHz)\")\n",
    "plt.savefig(\"fmode_envelope.png\")\n",
    "plt.show()"
   ],
   "outputs": [],
   "execution_count": null
  },
  {
   "cell_type": "code",
   "metadata": {},
   "source": [
    "plt.figure(dpi = 300)\n",
    "plt.scatter(df.mass/msun, df.fmode/1e3, s = 100, \n",
    "            color = \"dodgerblue\", alpha = 0.01, edgecolor = \"white\")\n",
    "plt.xlabel(\"Mass (Msun)\")\n",
    "plt.ylabel(\"Fundamental Mode (KHz)\")\n",
    "plt.savefig(\"fmode_scatter.png\")\n",
    "plt.show()"
   ],
   "outputs": [],
   "execution_count": null
  },
  {
   "cell_type": "code",
   "metadata": {
    "scrolled": false
   },
   "source": [
    "plt.figure(dpi = 300)\n",
    "plt.hist2d(df.mass/msun, df.fmode/1e3, bins=100, cmap = plt.cm.inferno)\n",
    "plt.xlabel(\"Mass (MSun)\")\n",
    "plt.ylabel(\"Fundamental Mode (KHz)\")\n",
    "cbar = plt.colorbar()\n",
    "cbar.ax.set_ylabel('Counts')\n",
    "plt.tight_layout()\n",
    "plt.savefig(\"fmode_bins.png\")\n",
    "plt.show()"
   ],
   "outputs": [],
   "execution_count": null
  },
  {
   "cell_type": "code",
   "metadata": {},
   "source": [
    "z = np.polyfit(df.mass/msun, df.fmode/1e3, deg = 3)\n",
    "p = np.poly1d(z)\n",
    "x = np.linspace(min(df.mass/msun) + 0.25, max(df.mass/msun) - 0.25, 100)\n",
    "\n",
    "data_ = np.array([df.mass/msun, df.fmode/1e3]).T\n",
    "data = pd.DataFrame(data_, columns = ['X','Y'])\n",
    "plt.figure(figsize=(6, 4), dpi = 300)\n",
    "sns.kdeplot(data = data, shade=True, x='X', y='Y', cmap = \"hot\", cut = 0, cbar = True, thresh=0.03,\n",
    "           bw_adjust=1, levels = 20)\n",
    "plt.plot(x, p(x),\"blue\", linewidth = 2, label = \"Posterior Mean\", linestyle = \"dashed\")\n",
    "plt.xlabel(\"Mass (Msun)\")\n",
    "plt.ylabel(\"Fundamental Mode (KHz)\")\n",
    "plt.legend(frameon = False)\n",
    "plt.tight_layout()\n",
    "plt.savefig(\"fmode_contour.png\")\n",
    "plt.show()"
   ],
   "outputs": [],
   "execution_count": null
  },
  {
   "cell_type": "code",
   "metadata": {},
   "source": [
    "plt.figure(dpi = 300)\n",
    "plt.scatter(df.radius/1e5, df.mass/msun, s = 100, \n",
    "            c = df.fmode/1e3, alpha = 0.01, edgecolor = \"white\",\n",
    "           cmap = \"inferno\")\n",
    "plt.ylabel(\"Mass (Msun)\")\n",
    "plt.xlabel(\"Radius (km)\")\n",
    "cbar = plt.colorbar()\n",
    "cbar.set_alpha(1)\n",
    "cbar.draw_all()\n",
    "cbar.set_label('Fundamental Mode (kHz)', rotation=-90, labelpad=15)\n",
    "plt.savefig(\"fmode_MR.png\")\n",
    "plt.show()"
   ],
   "outputs": [],
   "execution_count": null
  },
  {
   "cell_type": "code",
   "metadata": {},
   "source": [],
   "outputs": [],
   "execution_count": null
  }
 ],
 "metadata": {
  "kernelspec": {
   "display_name": "Python 3",
   "language": "python",
   "name": "python3"
  },
  "language_info": {
   "codemirror_mode": {
    "name": "ipython",
    "version": 3
   },
   "file_extension": ".py",
   "mimetype": "text/x-python",
   "name": "python",
   "nbconvert_exporter": "python",
   "pygments_lexer": "ipython3",
   "version": "3.8.6"
  }
 },
 "nbformat": 4,
 "nbformat_minor": 4
}
